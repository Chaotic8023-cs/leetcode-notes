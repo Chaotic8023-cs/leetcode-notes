{
 "cells": [
  {
   "metadata": {},
   "cell_type": "markdown",
   "source": "# 求$\\sqrt{n}$",
   "id": "f8ba88892ce7278c"
  },
  {
   "metadata": {},
   "cell_type": "markdown",
   "source": [
    "## 方法1：二分法\n",
    "\n",
    "在一个区$(left, right)$内寻找$\\sqrt{n}$，我们认为答案就是区间的中点。为了满足精度要求，我们一直用二分法缩小区间，直到区间大小小于规定的精度时，返回区间的中点作为答案。"
   ],
   "id": "d9447f098fb79b6b"
  },
  {
   "cell_type": "code",
   "id": "initial_id",
   "metadata": {
    "collapsed": true
   },
   "source": [
    "def sqrt1(n: float, precision=1e-10) -> float:\n",
    "    # 如果n < 1，则在区间(0,1)中寻找；如果n >= 1，则在区间(1, n)中寻找\n",
    "    left, right = (0, 1) if n < 1 else (1, n)\n",
    "    # 当前区间大小比指定的精度大则一直循环\n",
    "    while right - left > precision:\n",
    "        mid = (left + right) / 2\n",
    "        if mid * mid > n:\n",
    "            right = mid\n",
    "        else:\n",
    "            left = mid\n",
    "    # 最后的答案是当前区间的中点\n",
    "    return (left + right) / 2"
   ],
   "outputs": [],
   "execution_count": null
  },
  {
   "metadata": {},
   "cell_type": "code",
   "source": "print(sqrt1(2, 1e-10))",
   "id": "eefd570b5bca8a0c",
   "outputs": [],
   "execution_count": null
  },
  {
   "metadata": {},
   "cell_type": "markdown",
   "source": [
    "## 方法2：牛顿法\n",
    "\n",
    "1. **初始估计与切线方程**  \n",
    "   假设我们要求解 $ f(x)=0 $，先给定一个初始近似值 $ x_0 $。在 $ x=x_0 $ 处，函数值为 $ f(x_0) $，切线的斜率为 $ f'(x_0) $。  \n",
    "   根据斜截式，给定初始点$(x_0)$，则切线方程为  \n",
    "    $$\n",
    "    y - y_0 = f'(x_0)(x - x_0)\n",
    "    $$\n",
    "    也就是：\n",
    "    $$\n",
    "    y = f(x_0) + f'(x_0)(x - x_0)\n",
    "    $$\n",
    "\n",
    "2. **求切线与 $ x $ 轴的交点**  \n",
    "   切线与 $ x $ 轴的交点满足 $ y=0 $，将 $ y=0 $ 代入上式，有  \n",
    "   $$\n",
    "   0 = f(x_0) + f'(x_0)(x - x_0)\n",
    "   $$\n",
    "\n",
    "3. **解方程得到新的估计**\n",
    "   $$\n",
    "   x = x_0 - \\frac{f(x_0)}{f'(x_0)}\n",
    "   $$\n",
    "   我们将这个 $ x $ 称为新的估计 $ x_1 $，即  \n",
    "   $$\n",
    "   x_1 = x_0 - \\frac{f(x_0)}{f'(x_0)}\n",
    "   $$\n",
    "\n",
    "这样，我们就得到了牛顿法的递推公式（**重点记忆！！！记这个就行了，这样不管是平方跟还是立方根，现场带入f(x)然后算即可！**）：\n",
    "$$\n",
    "x_{k+1} = x_k - \\frac{f(x_k)}{f'(x_k)}\n",
    "$$\n",
    "\n",
    "\n",
    "### 应用于求 $\\sqrt{n}$ 的问题\n",
    "令\n",
    "$$\n",
    "x = \\sqrt{n}\n",
    "$$\n",
    "变换\n",
    "$$\n",
    "x^2 = n\n",
    "$$\n",
    "$$\n",
    "0 = x^2 - n\n",
    "$$\n",
    "\n",
    "也就是求\n",
    "$$\n",
    "f(x) = x^2 - n\n",
    "$$\n",
    "的零点，则\n",
    "$$\n",
    "f'(x) = 2x\n",
    "$$\n",
    "根据递推公式，代入 $ f(x) $ 和 $ f'(x) $：\n",
    "$$\n",
    "x_{k+1} = x_k - \\frac{x_k^2 - n}{2x_k} = \\frac{1}{2}\\left( x_k + \\frac{n}{x_k} \\right)\n",
    "$$\n",
    "这就是用于计算 $\\sqrt{n}$ 的牛顿迭代公式。\n",
    "\n",
    "直接记忆：\n",
    "$$\n",
    "x_1 = \\frac{1}{2}\\left( x_0 + \\frac{n}{x_0} \\right)\n",
    "$$\n",
    "\n"
   ],
   "id": "f8e8d4c9a78d5174"
  },
  {
   "metadata": {},
   "cell_type": "code",
   "source": [
    "def sqrt2(n: float, precision=1e-10) -> float:\n",
    "    x = 1 if n < 1 else n  # 初始估计x0\n",
    "    prev_x = 0  # 记录前一个x来记录每次更新的步长\n",
    "    # 如过更新步长大于指定精度则一直循环\n",
    "    while abs(x - prev_x) > precision:\n",
    "        prev_x = x\n",
    "        x = 0.5 * (x + n / x)  # 递推公式\n",
    "    return x\n",
    "\n",
    "# 如果参数直接就是x，那么可以先令n = x，就相当于求根号n了\n",
    "def sqrt2_(x, precision=1e-10):\n",
    "    n = x\n",
    "    x = 1 if n < 1 else n  # 初始估计x0\n",
    "    prev_x = 0\n",
    "    while abs(x - prev_x) > precision:\n",
    "        prev_x = x\n",
    "        x = 0.5 * (x + n / x)\n",
    "    return x"
   ],
   "id": "7e63a11dd68bbbdd",
   "outputs": [],
   "execution_count": null
  },
  {
   "metadata": {},
   "cell_type": "code",
   "source": [
    "print(sqrt2(2, 1e-10))\n",
    "print(sqrt2_(2, 1e-10))"
   ],
   "id": "be0f1f613318edbb",
   "outputs": [],
   "execution_count": null
  },
  {
   "metadata": {},
   "cell_type": "markdown",
   "source": [
    "### 补充：立方根\n",
    "\n",
    "还是使用牛顿法通用的迭代公式：\n",
    "$$\n",
    "x_{k+1} = x_k - \\frac{f(x_k)}{f'(x_k)}\n",
    "$$\n",
    "\n",
    "和平方根一样，要求解的是 $f(x) = x^3 - n = 0$，得到递推公式：\n",
    "$$\n",
    "x_{k+1} = x_k - \\frac{x_k^3 - n}{3x_k^2}\n",
    "$$"
   ],
   "id": "27ce9b5bcd93fe38"
  },
  {
   "metadata": {},
   "cell_type": "code",
   "source": [
    "def cbrt(n: float, precision=1e-10) -> float:\n",
    "    x = 1 if n < 1 else n  # 初始猜测\n",
    "    prev_x = 0\n",
    "    while abs(x - prev_x) > precision:\n",
    "        prev_x = x\n",
    "        x = x - (x**3 - n) / (3 * x**2)  # 迭代公式（未化简）\n",
    "    return x"
   ],
   "id": "5e00ca00fe80a31b",
   "outputs": [],
   "execution_count": null
  },
  {
   "metadata": {},
   "cell_type": "markdown",
   "source": "# 方法3：梯度下降法",
   "id": "c0f9d10a6a0ee00d"
  },
  {
   "metadata": {},
   "cell_type": "markdown",
   "source": [
    "梯度下降主要通过求梯度为0的点，得到凸函数的全局最小值。\n",
    "首先构建损失函数为凸函数的目标函数, 使得目标函数的最小值对应的是我们要求的值。\n",
    "\n",
    "由：\n",
    "$$\n",
    "x^2 = n\n",
    "$$\n",
    "\n",
    "我们可以构建一个损失函数：\n",
    "$$\n",
    "f(x)=\\tfrac12\\,(x^2-n)^2\n",
    "$$\n",
    "\n",
    "这里不直接用 $x^2 - n$ 是因为其最小值对应$x$的不是我们想要的$x$。\n",
    "\n",
    "构建了损失函数以后，就可以用梯度下降法来求全局最优的$x$的值，即为我们要求的 $\\sqrt{n}$ 的值。\n",
    "\n",
    "它在 $x=\\pm\\sqrt{n}$ 处取到全局最小（值为 0），且 $f'(x)=2x(x^2-n)$。\n",
    "用梯度下降做迭代：\n",
    "\n",
    "$$\n",
    "x_{k+1}=x_k-\\eta\\;\\underbrace{2x_k(x_k^2-n)}_{\\nabla f(x_k)}.\n",
    "$$\n",
    "\n",
    "早停条件：残差 $|x_k^2-n|$ 很小\n",
    "\n",
    "**形式**：$|x_k^2-n|\\le \\varepsilon$。\n",
    "\n",
    "**含义**：直接约束方程误差 $x^2=n$，是“问题相关”的收敛标准。\n"
   ],
   "id": "e14fe71001eed6e6"
  },
  {
   "metadata": {
    "jupyter": {
     "is_executing": true
    }
   },
   "cell_type": "code",
   "source": [
    "def sqrt_gd_simple(n, lr=1e-4, eps=1e-12, max_iter=10000):\n",
    "    assert n >= 0, \"n必须非负\"\n",
    "    if n == 0:\n",
    "        return 0.0\n",
    "    # 简单正初值：n>=1 用 n；n<1 用 1.0\n",
    "    x = n if n >= 1.0 else 1.0\n",
    "    for k in range(1, max_iter + 1):\n",
    "        # 梯度下降\n",
    "        grad = 2.0 * x * (x * x - n)\n",
    "        x = x - lr * grad  # 负梯度方向更新\n",
    "        # 早停条件：方程残差小于阈值时停止更新\n",
    "        if abs(x * x - n) <= eps:\n",
    "            return x\n",
    "    return x"
   ],
   "id": "fec6cfb4928585db",
   "outputs": [],
   "execution_count": null
  }
 ],
 "metadata": {
  "kernelspec": {
   "display_name": "Python 3",
   "language": "python",
   "name": "python3"
  },
  "language_info": {
   "codemirror_mode": {
    "name": "ipython",
    "version": 2
   },
   "file_extension": ".py",
   "mimetype": "text/x-python",
   "name": "python",
   "nbconvert_exporter": "python",
   "pygments_lexer": "ipython2",
   "version": "2.7.6"
  }
 },
 "nbformat": 4,
 "nbformat_minor": 5
}
